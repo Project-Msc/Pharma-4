{
 "cells": [
  {
   "cell_type": "code",
   "execution_count": 26,
   "metadata": {},
   "outputs": [],
   "source": [
    "import pandas as pd\n",
    "import numpy as np\n",
    "import os\n",
    "from scipy.stats import chi2_contingency"
   ]
  },
  {
   "cell_type": "code",
   "execution_count": 8,
   "metadata": {},
   "outputs": [],
   "source": [
    "table=pd.read_excel(\"HEART.xlsx\")"
   ]
  },
  {
   "cell_type": "code",
   "execution_count": 9,
   "metadata": {},
   "outputs": [
    {
     "data": {
      "text/html": [
       "<div>\n",
       "<style scoped>\n",
       "    .dataframe tbody tr th:only-of-type {\n",
       "        vertical-align: middle;\n",
       "    }\n",
       "\n",
       "    .dataframe tbody tr th {\n",
       "        vertical-align: top;\n",
       "    }\n",
       "\n",
       "    .dataframe thead th {\n",
       "        text-align: right;\n",
       "    }\n",
       "</style>\n",
       "<table border=\"1\" class=\"dataframe\">\n",
       "  <thead>\n",
       "    <tr style=\"text-align: right;\">\n",
       "      <th></th>\n",
       "      <th>age</th>\n",
       "      <th>sex</th>\n",
       "      <th>cp</th>\n",
       "      <th>trestbps</th>\n",
       "      <th>chol</th>\n",
       "      <th>fbs</th>\n",
       "      <th>restecg</th>\n",
       "      <th>thalach</th>\n",
       "      <th>exang</th>\n",
       "      <th>oldpeak</th>\n",
       "      <th>slope</th>\n",
       "      <th>ca</th>\n",
       "      <th>thal</th>\n",
       "      <th>target</th>\n",
       "    </tr>\n",
       "  </thead>\n",
       "  <tbody>\n",
       "    <tr>\n",
       "      <td>0</td>\n",
       "      <td>63</td>\n",
       "      <td>1</td>\n",
       "      <td>3</td>\n",
       "      <td>145</td>\n",
       "      <td>233</td>\n",
       "      <td>1</td>\n",
       "      <td>0</td>\n",
       "      <td>150</td>\n",
       "      <td>0</td>\n",
       "      <td>2.3</td>\n",
       "      <td>0</td>\n",
       "      <td>0</td>\n",
       "      <td>1</td>\n",
       "      <td>1</td>\n",
       "    </tr>\n",
       "    <tr>\n",
       "      <td>1</td>\n",
       "      <td>37</td>\n",
       "      <td>1</td>\n",
       "      <td>2</td>\n",
       "      <td>130</td>\n",
       "      <td>250</td>\n",
       "      <td>0</td>\n",
       "      <td>1</td>\n",
       "      <td>187</td>\n",
       "      <td>0</td>\n",
       "      <td>3.5</td>\n",
       "      <td>0</td>\n",
       "      <td>0</td>\n",
       "      <td>2</td>\n",
       "      <td>1</td>\n",
       "    </tr>\n",
       "    <tr>\n",
       "      <td>2</td>\n",
       "      <td>41</td>\n",
       "      <td>0</td>\n",
       "      <td>1</td>\n",
       "      <td>130</td>\n",
       "      <td>204</td>\n",
       "      <td>0</td>\n",
       "      <td>0</td>\n",
       "      <td>172</td>\n",
       "      <td>0</td>\n",
       "      <td>1.4</td>\n",
       "      <td>2</td>\n",
       "      <td>0</td>\n",
       "      <td>2</td>\n",
       "      <td>1</td>\n",
       "    </tr>\n",
       "    <tr>\n",
       "      <td>3</td>\n",
       "      <td>56</td>\n",
       "      <td>1</td>\n",
       "      <td>1</td>\n",
       "      <td>120</td>\n",
       "      <td>236</td>\n",
       "      <td>0</td>\n",
       "      <td>1</td>\n",
       "      <td>178</td>\n",
       "      <td>0</td>\n",
       "      <td>0.8</td>\n",
       "      <td>2</td>\n",
       "      <td>0</td>\n",
       "      <td>2</td>\n",
       "      <td>1</td>\n",
       "    </tr>\n",
       "    <tr>\n",
       "      <td>4</td>\n",
       "      <td>57</td>\n",
       "      <td>0</td>\n",
       "      <td>0</td>\n",
       "      <td>120</td>\n",
       "      <td>354</td>\n",
       "      <td>0</td>\n",
       "      <td>1</td>\n",
       "      <td>163</td>\n",
       "      <td>1</td>\n",
       "      <td>0.6</td>\n",
       "      <td>2</td>\n",
       "      <td>0</td>\n",
       "      <td>2</td>\n",
       "      <td>1</td>\n",
       "    </tr>\n",
       "  </tbody>\n",
       "</table>\n",
       "</div>"
      ],
      "text/plain": [
       "   age  sex  cp  trestbps  chol  fbs  restecg  thalach  exang  oldpeak  slope  \\\n",
       "0   63    1   3       145   233    1        0      150      0      2.3      0   \n",
       "1   37    1   2       130   250    0        1      187      0      3.5      0   \n",
       "2   41    0   1       130   204    0        0      172      0      1.4      2   \n",
       "3   56    1   1       120   236    0        1      178      0      0.8      2   \n",
       "4   57    0   0       120   354    0        1      163      1      0.6      2   \n",
       "\n",
       "   ca  thal  target  \n",
       "0   0     1       1  \n",
       "1   0     2       1  \n",
       "2   0     2       1  \n",
       "3   0     2       1  \n",
       "4   0     2       1  "
      ]
     },
     "execution_count": 9,
     "metadata": {},
     "output_type": "execute_result"
    }
   ],
   "source": [
    "table.head(5)"
   ]
  },
  {
   "cell_type": "code",
   "execution_count": 10,
   "metadata": {},
   "outputs": [],
   "source": [
    "#Age: Age of experimental unit\n",
    "#Sex: 1 for male, 0 for female\n",
    "#Cp: Chest pain : 1: typical type 1 angina , 2: typical type angina, 3: non-angina pain , 4: asymptomatic\n",
    "#trestbps: trest blood pressure \n",
    "#chol : Serum cholestrol\n",
    "#fbs: Fasting blood suagr : 1: >120 , 0: <120\n",
    "#restecg : 0:Normal , 1: St-T wave abnormal , 2: probable or define left ventricular hypertrophy\n",
    "#thalach: maximum HB received\n",
    "#exang: exercise induced angina , 1: yes, 0: no\n",
    "#oldpeak: ST depression\n",
    "#Slope: slope of peak exercise, 1:upwardsloping, 2:flat,3:downward sloping\n",
    "#CA: number of major vessels colored\n",
    "#Thal: 1:normal,2:fixed defect , 3: reversible defect\n",
    "#Terget: individual suffer from cardiovascular disease or not , 1: yes , 0: no"
   ]
  },
  {
   "cell_type": "code",
   "execution_count": 12,
   "metadata": {},
   "outputs": [],
   "source": [
    "table[\"sex\"] = table.sex.astype(\"category\")\n",
    "table[\"cp\"] = table.cp.astype(\"category\")\n",
    "table[\"fbs\"] = table.fbs.astype(\"category\")\n",
    "table[\"exang\"] = table.exang.astype(\"category\")\n",
    "table[\"slope\"] = table.slope.astype(\"category\")\n",
    "table[\"ca\"] = table.ca.astype(\"category\")\n",
    "table[\"thal\"] = table.thal.astype(\"category\")\n",
    "table[\"target\"] = table.target.astype(\"category\")"
   ]
  },
  {
   "cell_type": "code",
   "execution_count": 56,
   "metadata": {},
   "outputs": [
    {
     "data": {
      "text/plain": [
       "age            int64\n",
       "sex         category\n",
       "cp          category\n",
       "trestbps       int64\n",
       "chol           int64\n",
       "fbs         category\n",
       "restecg        int64\n",
       "thalach        int64\n",
       "exang       category\n",
       "oldpeak      float64\n",
       "slope       category\n",
       "ca          category\n",
       "thal        category\n",
       "target      category\n",
       "dtype: object"
      ]
     },
     "execution_count": 56,
     "metadata": {},
     "output_type": "execute_result"
    }
   ],
   "source": [
    "table.dtypes"
   ]
  },
  {
   "cell_type": "code",
   "execution_count": 39,
   "metadata": {},
   "outputs": [
    {
     "name": "stdout",
     "output_type": "stream",
     "text": [
      "target    0   1\n",
      "sex            \n",
      "0        24  72\n",
      "1       114  93\n"
     ]
    },
    {
     "data": {
      "text/plain": [
       "(22.717227046576355,\n",
       " 1.8767776216941503e-06,\n",
       " 1,\n",
       " array([[ 43.72277228,  52.27722772],\n",
       "        [ 94.27722772, 112.72277228]]))"
      ]
     },
     "execution_count": 39,
     "metadata": {},
     "output_type": "execute_result"
    }
   ],
   "source": [
    "df1= pd.crosstab(df['sex'], df['target']) \n",
    "print(df1) \n",
    "c, p, dof, expected = chi2_contingency(df1) \n",
    "c,p,dof,expected"
   ]
  },
  {
   "cell_type": "code",
   "execution_count": 38,
   "metadata": {},
   "outputs": [
    {
     "name": "stdout",
     "output_type": "stream",
     "text": [
      "target    0   1\n",
      "cp             \n",
      "0       104  39\n",
      "1         9  41\n",
      "2        18  69\n",
      "3         7  16\n"
     ]
    },
    {
     "data": {
      "text/plain": [
       "(81.68642755194445,\n",
       " 1.3343043373050064e-17,\n",
       " 3,\n",
       " array([[65.12871287, 77.87128713],\n",
       "        [22.77227723, 27.22772277],\n",
       "        [39.62376238, 47.37623762],\n",
       "        [10.47524752, 12.52475248]]))"
      ]
     },
     "execution_count": 38,
     "metadata": {},
     "output_type": "execute_result"
    }
   ],
   "source": [
    "df2= pd.crosstab(df['cp'], df['target']) \n",
    "print(df2) \n",
    "c, p, dof, expected = chi2_contingency(df2) \n",
    "c,p,dof,expected"
   ]
  },
  {
   "cell_type": "code",
   "execution_count": 37,
   "metadata": {},
   "outputs": [
    {
     "name": "stdout",
     "output_type": "stream",
     "text": [
      "target    0    1\n",
      "fbs             \n",
      "0       116  142\n",
      "1        22   23\n"
     ]
    },
    {
     "data": {
      "text/plain": [
       "(0.10627276301947715, 0.7444281114149577, 1, array([[117.5049505, 140.4950495],\n",
       "        [ 20.4950495,  24.5049505]]))"
      ]
     },
     "execution_count": 37,
     "metadata": {},
     "output_type": "execute_result"
    }
   ],
   "source": [
    "df3= pd.crosstab(df['fbs'], df['target']) \n",
    "print(df3) \n",
    "c, p, dof, expected = chi2_contingency(df3) \n",
    "c,p,dof,expected"
   ]
  },
  {
   "cell_type": "code",
   "execution_count": 41,
   "metadata": {},
   "outputs": [
    {
     "name": "stdout",
     "output_type": "stream",
     "text": [
      "target    0   1\n",
      "restecg        \n",
      "0        79  68\n",
      "1        56  96\n",
      "2         3   1\n"
     ]
    },
    {
     "data": {
      "text/plain": [
       "(10.023091785081, 0.006660598773498031, 2, array([[66.95049505, 80.04950495],\n",
       "        [69.22772277, 82.77227723],\n",
       "        [ 1.82178218,  2.17821782]]))"
      ]
     },
     "execution_count": 41,
     "metadata": {},
     "output_type": "execute_result"
    }
   ],
   "source": [
    "df4= pd.crosstab(df['restecg'], df['target']) \n",
    "print(df4) \n",
    "c, p, dof, expected = chi2_contingency(df4) \n",
    "c,p,dof,expected"
   ]
  },
  {
   "cell_type": "code",
   "execution_count": 42,
   "metadata": {},
   "outputs": [
    {
     "name": "stdout",
     "output_type": "stream",
     "text": [
      "target   0    1\n",
      "exang          \n",
      "0       62  142\n",
      "1       76   23\n"
     ]
    },
    {
     "data": {
      "text/plain": [
       "(55.94454996665093,\n",
       " 7.454409331235655e-14,\n",
       " 1,\n",
       " array([[ 92.91089109, 111.08910891],\n",
       "        [ 45.08910891,  53.91089109]]))"
      ]
     },
     "execution_count": 42,
     "metadata": {},
     "output_type": "execute_result"
    }
   ],
   "source": [
    "df5= pd.crosstab(df['exang'], df['target']) \n",
    "print(df5) \n",
    "c, p, dof, expected = chi2_contingency(df5) \n",
    "c,p,dof,expected"
   ]
  },
  {
   "cell_type": "code",
   "execution_count": 44,
   "metadata": {},
   "outputs": [
    {
     "name": "stdout",
     "output_type": "stream",
     "text": [
      "target   0    1\n",
      "slope          \n",
      "0       12    9\n",
      "1       91   49\n",
      "2       35  107\n"
     ]
    },
    {
     "data": {
      "text/plain": [
       "(47.506896756030244,\n",
       " 4.830681934276837e-11,\n",
       " 2,\n",
       " array([[ 9.56435644, 11.43564356],\n",
       "        [63.76237624, 76.23762376],\n",
       "        [64.67326733, 77.32673267]]))"
      ]
     },
     "execution_count": 44,
     "metadata": {},
     "output_type": "execute_result"
    }
   ],
   "source": [
    "df6= pd.crosstab(df['slope'], df['target']) \n",
    "print(df6) \n",
    "c, p, dof, expected = chi2_contingency(df6) \n",
    "c,p,dof,expected"
   ]
  },
  {
   "cell_type": "code",
   "execution_count": 46,
   "metadata": {},
   "outputs": [
    {
     "name": "stdout",
     "output_type": "stream",
     "text": [
      "target   0    1\n",
      "ca             \n",
      "0       46  134\n",
      "1       44   21\n",
      "2       31    7\n",
      "3       17    3\n"
     ]
    },
    {
     "data": {
      "text/plain": [
       "(74.30263036099419,\n",
       " 5.111663429976987e-16,\n",
       " 3,\n",
       " array([[81.98019802, 98.01980198],\n",
       "        [29.6039604 , 35.3960396 ],\n",
       "        [17.30693069, 20.69306931],\n",
       "        [ 9.10891089, 10.89108911]]))"
      ]
     },
     "execution_count": 46,
     "metadata": {},
     "output_type": "execute_result"
    }
   ],
   "source": [
    "df8= pd.crosstab(df['ca'], df['target']) \n",
    "print(df8) \n",
    "c, p, dof, expected = chi2_contingency(df8) \n",
    "c,p,dof,expected"
   ]
  },
  {
   "cell_type": "code",
   "execution_count": 47,
   "metadata": {},
   "outputs": [
    {
     "name": "stdout",
     "output_type": "stream",
     "text": [
      "target   0    1\n",
      "thal           \n",
      "1       12    6\n",
      "2       37  131\n",
      "3       89   28\n"
     ]
    },
    {
     "data": {
      "text/plain": [
       "(84.66499002205522,\n",
       " 4.1231678183157673e-19,\n",
       " 2,\n",
       " array([[ 8.1980198 ,  9.8019802 ],\n",
       "        [76.51485149, 91.48514851],\n",
       "        [53.28712871, 63.71287129]]))"
      ]
     },
     "execution_count": 47,
     "metadata": {},
     "output_type": "execute_result"
    }
   ],
   "source": [
    "df7= pd.crosstab(df['thal'], df['target']) \n",
    "print(df7) \n",
    "c, p, dof, expected = chi2_contingency(df7) \n",
    "c,p,dof,expected"
   ]
  },
  {
   "cell_type": "code",
   "execution_count": null,
   "metadata": {},
   "outputs": [],
   "source": []
  }
 ],
 "metadata": {
  "kernelspec": {
   "display_name": "Python 3",
   "language": "python",
   "name": "python3"
  },
  "language_info": {
   "codemirror_mode": {
    "name": "ipython",
    "version": 3
   },
   "file_extension": ".py",
   "mimetype": "text/x-python",
   "name": "python",
   "nbconvert_exporter": "python",
   "pygments_lexer": "ipython3",
   "version": "3.7.4"
  }
 },
 "nbformat": 4,
 "nbformat_minor": 4
}
